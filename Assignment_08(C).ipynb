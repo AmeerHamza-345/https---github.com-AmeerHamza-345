{
  "nbformat": 4,
  "nbformat_minor": 0,
  "metadata": {
    "colab": {
      "provenance": [],
      "authorship_tag": "ABX9TyO6myoolAvSiFzFVwHfZ8Rt",
      "include_colab_link": true
    },
    "kernelspec": {
      "name": "python3",
      "display_name": "Python 3"
    },
    "language_info": {
      "name": "python"
    }
  },
  "cells": [
    {
      "cell_type": "markdown",
      "metadata": {
        "id": "view-in-github",
        "colab_type": "text"
      },
      "source": [
        "<a href=\"https://colab.research.google.com/github/AmeerHamza-345/https---github.com-AmeerHamza-345/blob/main/Assignment_08(C).ipynb\" target=\"_parent\"><img src=\"https://colab.research.google.com/assets/colab-badge.svg\" alt=\"Open In Colab\"/></a>"
      ]
    },
    {
      "cell_type": "markdown",
      "source": [
        "#Python Programming Assignment 08 (C) : Student Database Management\n",
        "##Task Overview\n",
        "You are tasked with developing a Python program to manage a student database. The user should be able to add new students or stop the input process by entering \"stop.\" Each student's name, along with a sequentially generated ID starting from 1, should be stored in a tuple, with these tuples kept in a list. The program must check for duplicate names before adding a new student and display a message if a duplicate is found. After the input process ends, the program should first display the complete list of student tuples and then display each student's ID and name individually. Additionally, the program should show the total number of students, calculate and display the total length of all student names combined, and identify the student with the longest and shortest name using appropriate operators. Implement these operations within a function named manage_student_database() and ensure you call this function at the end of your code."
      ],
      "metadata": {
        "id": "i5DBuUN81MhM"
      }
    },
    {
      "cell_type": "code",
      "execution_count": 13,
      "metadata": {
        "colab": {
          "base_uri": "https://localhost:8080/"
        },
        "id": "IVRP2znf09Vy",
        "outputId": "5af42cbc-0964-4c1c-8059-40282e82e10a"
      },
      "outputs": [
        {
          "output_type": "stream",
          "name": "stdout",
          "text": [
            "Enter the student's name (or type 'stop' to finish): Alice\n",
            "Enter the student's name (or type 'stop' to finish): Bob\n",
            "Enter the student's name (or type 'stop' to finish): Charlie\n",
            "Enter the student's name (or type 'stop' to finish): Alice\n",
            "The name 'Alice' is already in the list.\n",
            "Enter the student's name (or type 'stop' to finish): Diana\n",
            "Enter the student's name (or type 'stop' to finish): stop\n",
            "\n",
            "Complete list of students(Tuples):\n",
            "(1, 'Alice')\n",
            "(2, 'Bob')\n",
            "(3, 'Charlie')\n",
            "(4, 'Diana')\n",
            "\n",
            "List of students with IDs:\n",
            "Student ID: 1, Name: Alice\n",
            "Student ID: 2, Name: Bob\n",
            "Student ID: 3, Name: Charlie\n",
            "Student ID: 4, Name: Diana\n",
            "                             \n",
            "Total number of students: 4\n",
            "Total length of all student names combined: 20\n",
            "The Student with the longest name is: Charlie\n",
            "The Student with the shortest name is: Bob\n"
          ]
        }
      ],
      "source": [
        "def manage_student_database():\n",
        "\n",
        "    student_database = []\n",
        "\n",
        "    student_id = 1\n",
        "    while True:\n",
        "\n",
        "        student_name = input(\"Enter the student's name (or type 'stop' to finish): \")\n",
        "\n",
        "        if student_name.lower() == 'stop':\n",
        "            break\n",
        "\n",
        "        if any(student_name == student[1] for student in student_database):\n",
        "            print(f\"The name '{student_name}' is already in the list.\")\n",
        "        else:\n",
        "\n",
        "            student_database.append((student_id, student_name))\n",
        "            student_id += 1\n",
        "    print(\"\\nComplete list of students(Tuples):\")\n",
        "    for student in student_database:\n",
        "        print(student)\n",
        "\n",
        "    print(\"\\nList of students with IDs:\")\n",
        "    for student in student_database:\n",
        "        print(f\"Student ID: {student[0]}, Name: {student[1]}\")\n",
        "\n",
        "\n",
        "    total_students = len(student_database)\n",
        "    total_name_length = sum(len(student[1]) for student in student_database)\n",
        "\n",
        "\n",
        "    if student_database:\n",
        "        longest_name_student = max(student_database, key=lambda x: len(x[1]))\n",
        "        shortest_name_student = min(student_database, key=lambda x: len(x[1]))\n",
        "\n",
        "        print(\"                             \")\n",
        "        print(f\"Total number of students: {total_students}\")\n",
        "        print(f\"Total length of all student names combined: {total_name_length}\")\n",
        "        print(f\"The Student with the longest name is: {longest_name_student[1]}\")\n",
        "        print(f\"The Student with the shortest name is: {shortest_name_student[1]}\")\n",
        "\n",
        "    else:\n",
        "        print(\"\\nNo students were entered.\")\n",
        "\n",
        "manage_student_database()"
      ]
    },
    {
      "cell_type": "code",
      "source": [],
      "metadata": {
        "id": "vnbICoJ12vwx"
      },
      "execution_count": null,
      "outputs": []
    }
  ]
}