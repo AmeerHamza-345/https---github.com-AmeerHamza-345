{
  "nbformat": 4,
  "nbformat_minor": 0,
  "metadata": {
    "colab": {
      "provenance": [],
      "authorship_tag": "ABX9TyP/UgUZGGHw/hAgaacyky58",
      "include_colab_link": true
    },
    "kernelspec": {
      "name": "python3",
      "display_name": "Python 3"
    },
    "language_info": {
      "name": "python"
    }
  },
  "cells": [
    {
      "cell_type": "markdown",
      "metadata": {
        "id": "view-in-github",
        "colab_type": "text"
      },
      "source": [
        "<a href=\"https://colab.research.google.com/github/AmeerHamza-345/https---github.com-AmeerHamza-345/blob/main/Basic_python_Projects.ipynb\" target=\"_parent\"><img src=\"https://colab.research.google.com/assets/colab-badge.svg\" alt=\"Open In Colab\"/></a>"
      ]
    },
    {
      "cell_type": "markdown",
      "source": [
        "#1.Joke bot:\n",
        "##Problem Statement\n",
        "Write a simple joke bot. The bot starts by asking the user what they want. However, your program will only respond to one response: Joke.\n",
        "\n",
        "If the user enters Joke then we will print out a single joke. Each time the joke is always the same:\n",
        "\n",
        "Here is a joke for you! Panaversity GPT - Sophia is heading out to the grocery store. A programmer tells her: get a liter of milk, and if they have eggs, get 12. Sophia returns with 13 liters of milk. The programmer asks why and Sophia replies: 'because they had eggs'\n",
        "\n",
        "If the user enters anything else we print out:\n",
        "\n",
        "Sorry I only tell jokes\n",
        "\n",
        "You should use the three constants:\n",
        "\n",
        "PROMPT JOKE SORRY\n",
        "\n",
        "which contain the strings for the prompt asked to the user, the joke to print out if the user enters Joke and the sorry message if the user enters anything else.\n",
        "\n",
        "Your program will need to use an if statement which checks if the user input is Joke:\n",
        "\n",
        "if user_input == \"Joke\":\n",
        "\n",
        "Recall that == is a comparison which tests if two values are equal to one another.\n",
        "\n",
        "Here is a full run of the program (user input is in blue):\n",
        "\n",
        "What do you want? Joke Here is a joke for you! Panaversity GPT - Sophia is heading out to the grocery store. A programmer tells her: get a liter of milk, and if they have eggs, get 12. Sophia returns with 13 liters of milk. The programmer asks why and Sophia replies: 'because they had eggs'\n",
        "\n"
      ],
      "metadata": {
        "id": "1-LypMxPPNFF"
      }
    },
    {
      "cell_type": "code",
      "source": [
        "PROMPT: str = \"What do you want?\"\n",
        "JOKE: str = (\"Why do programmers prefer dark mode? \"\n",
        "             \"Because light attracts bugs! 😄\")\n",
        "\n",
        "def joke_bot():\n",
        "    user_input = input(PROMPT)\n",
        "    if user_input.lower() == \"joke\":\n",
        "        print(JOKE)\n",
        "    else:\n",
        "        print(\"Sorry, I only tell jokes\")\n",
        "\n",
        "joke_bot()\n"
      ],
      "metadata": {
        "colab": {
          "base_uri": "https://localhost:8080/"
        },
        "id": "kJ7hdBeBPc_X",
        "outputId": "ea6438e5-003a-43c2-cd30-f838f5431bfb"
      },
      "execution_count": 17,
      "outputs": [
        {
          "output_type": "stream",
          "name": "stdout",
          "text": [
            "What do you want?joke\n",
            "Why do programmers prefer dark mode? Because light attracts bugs! 😄\n"
          ]
        }
      ]
    },
    {
      "cell_type": "markdown",
      "source": [
        "#2. Double it:\n",
        "##Problem Statement\n",
        "Write a program that asks a user to enter a number. Your program will then double that number and print out the result. It will repeat that process until the value is 100 or greater.\n",
        "\n",
        "For example if the user enters the number 2 you would then print:\n",
        "\n",
        "4 8 16 32 64 128\n",
        "\n",
        "Note that:\n",
        "\n",
        "2 doubled is 4\n",
        "\n",
        "4 doubled is 8\n",
        "\n",
        "8 doubled is 16\n",
        "\n",
        "and so on.\n",
        "\n",
        "We stop at 128 because that value is greater than 100."
      ],
      "metadata": {
        "id": "vnlWxK6XPoSj"
      }
    },
    {
      "cell_type": "code",
      "source": [
        "# Get user input & type\n",
        "def double_it():\n",
        "    user_input = int(input(\"Enter a number: \"))\n",
        "    while user_input < 100:\n",
        "        user_input *= 2\n",
        "        print(user_input, end=\" \")\n",
        "double_it()"
      ],
      "metadata": {
        "colab": {
          "base_uri": "https://localhost:8080/"
        },
        "id": "LujlOQh3P9vq",
        "outputId": "912d5279-418b-4ebc-b3b9-958d08653b32"
      },
      "execution_count": 18,
      "outputs": [
        {
          "output_type": "stream",
          "name": "stdout",
          "text": [
            "Enter a number: 2\n",
            "4 8 16 32 64 128 "
          ]
        }
      ]
    },
    {
      "cell_type": "markdown",
      "source": [
        "#3.lift off:\n",
        "##Problem Statement\n",
        "Write a program that prints out the calls for a spaceship that is about to launch. Countdown from 10 to 1 and then output Liftoff!\n",
        "\n",
        "Here's a sample run of the program:\n",
        "\n",
        "10 9 8 7 6 5 4 3 2 1 Liftoff!\n",
        "\n",
        "There are many ways to solve this problem. One approach is to use a for loop, and to use the for loop variable i. Recall that i will keep track of how many times the for loop has completed executing its body. As an example this code:\n",
        "\n",
        "for i in range(10): print(i)\n",
        "\n",
        "Will print out the values 0, 1, 2, 3, 4, 5, 6, 7, 8, 9. The values printed in liftoff are 10 minus the number of times the for loop has completed."
      ],
      "metadata": {
        "id": "PBoLvReTRF_t"
      }
    },
    {
      "cell_type": "code",
      "source": [
        "def countdown_1():\n",
        "\n",
        "  for i in range(10, 0, -1):  # Start at 10, end at 1, count down by 1\n",
        "    print(i, end=\" \")\n",
        "\n",
        "  print(\"Liftoff!\")\n",
        "countdown_1()"
      ],
      "metadata": {
        "colab": {
          "base_uri": "https://localhost:8080/"
        },
        "id": "CgSbsatERfzs",
        "outputId": "d8898719-2723-410d-accd-4ccb1b93b2b7"
      },
      "execution_count": 20,
      "outputs": [
        {
          "output_type": "stream",
          "name": "stdout",
          "text": [
            "10 9 8 7 6 5 4 3 2 1 Liftoff!\n"
          ]
        }
      ]
    },
    {
      "cell_type": "markdown",
      "source": [
        "#4.Guess My Number:\n",
        "##Problem Statement\n",
        "I am thinking of a number between 0 and 99... Enter a guess: 50 Your guess is too high\n",
        "\n",
        "Enter a new number: 25 Your guess is too low\n",
        "\n",
        "Enter a new number: 40 Your guess is too low\n",
        "\n",
        "Enter a new number: 45 Your guess is too low\n",
        "\n",
        "Enter a new number: 48 Congrats! The number was: 48"
      ],
      "metadata": {
        "id": "zb5HfI32R-3E"
      }
    },
    {
      "cell_type": "code",
      "source": [
        "import random\n",
        "\n",
        "secret_number = random.randint(0, 99)\n",
        "\n",
        "print(\"I am thinking of a number between 0 and 99...\")\n",
        "print(\"Type 'quit' to exit the game at any time.\")\n",
        "\n",
        "while True:\n",
        "\n",
        "    user_input = input(\"Enter a guess: \")\n",
        "\n",
        "    if user_input.lower() == \"quit\":\n",
        "        print(f\"You quit the game! The number was: {secret_number}\")\n",
        "        break\n",
        "\n",
        "    try:\n",
        "        user_guess = int(user_input)\n",
        "    except ValueError:\n",
        "        print(\"Invalid input! Please enter a number or 'quit'.\")\n",
        "        continue\n",
        "\n",
        "    if user_guess < secret_number:\n",
        "        print(\"Your guess is too low\")\n",
        "    elif user_guess > secret_number:\n",
        "        print(\"Your guess is too high\")\n",
        "    else:\n",
        "        print(f\"Congrats! The number was: {secret_number}\")\n",
        "        break\n",
        "\n"
      ],
      "metadata": {
        "colab": {
          "base_uri": "https://localhost:8080/"
        },
        "id": "aUtAZ_a0SPA8",
        "outputId": "767696d6-e3d3-41b9-92d6-8bfbf90bda5b"
      },
      "execution_count": 25,
      "outputs": [
        {
          "output_type": "stream",
          "name": "stdout",
          "text": [
            "I am thinking of a number between 0 and 99...\n",
            "Type 'quit' to exit the game at any time.\n",
            "Enter a guess: 45\n",
            "Your guess is too low\n",
            "Enter a guess: 78\n",
            "Your guess is too high\n",
            "Enter a guess: 34\n",
            "Your guess is too low\n",
            "Enter a guess: 56\n",
            "Your guess is too low\n",
            "Enter a guess: 98\n",
            "Your guess is too high\n",
            "Enter a guess: quit\n",
            "You quit the game! The number was: 60\n"
          ]
        }
      ]
    },
    {
      "cell_type": "markdown",
      "source": [
        "#5.Random_numbers:\n",
        "##Problem Statement\n",
        "Print 10 random numbers in the range 1 to 100.\n",
        "\n",
        "Here is an example run:\n",
        "\n",
        "45 79 61 47 52 10 16 83 19 12\n",
        "\n",
        "Each time you run your program you should get different numbers\n",
        "\n",
        "81 76 70 1 27 63 96 100 32 92\n",
        "\n",
        "Recall that the python random library has a function randint which returns an integer in the range set by the parameters (inclusive). For example this call would produce a random integer between 1 and 6, which could include 1 and could include 6:\n",
        "\n",
        "value = random.randint(1, 6)"
      ],
      "metadata": {
        "id": "sHR7vomhUX0h"
      }
    },
    {
      "cell_type": "code",
      "source": [
        "import random\n",
        "\n",
        "# Print 10 random numbers in the range 1 to 100\n",
        "for _ in range(10):\n",
        "    print(random.randint(1, 100), end=\" \")\n"
      ],
      "metadata": {
        "colab": {
          "base_uri": "https://localhost:8080/"
        },
        "id": "fF38Xl4TU-fS",
        "outputId": "0ff4981c-9934-4aba-89cf-38db353353a0"
      },
      "execution_count": 26,
      "outputs": [
        {
          "output_type": "stream",
          "name": "stdout",
          "text": [
            "64 20 98 19 69 24 74 36 48 49 "
          ]
        }
      ]
    }
  ]
}