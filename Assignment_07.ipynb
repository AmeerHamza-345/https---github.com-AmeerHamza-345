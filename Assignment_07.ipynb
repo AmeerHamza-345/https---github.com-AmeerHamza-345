{
  "nbformat": 4,
  "nbformat_minor": 0,
  "metadata": {
    "colab": {
      "provenance": [],
      "authorship_tag": "ABX9TyMVCmkitcDO7t7lvnp6i33E",
      "include_colab_link": true
    },
    "kernelspec": {
      "name": "python3",
      "display_name": "Python 3"
    },
    "language_info": {
      "name": "python"
    }
  },
  "cells": [
    {
      "cell_type": "markdown",
      "metadata": {
        "id": "view-in-github",
        "colab_type": "text"
      },
      "source": [
        "<a href=\"https://colab.research.google.com/github/AmeerHamza-345/https---github.com-AmeerHamza-345/blob/main/Assignment_07.ipynb\" target=\"_parent\"><img src=\"https://colab.research.google.com/assets/colab-badge.svg\" alt=\"Open In Colab\"/></a>"
      ]
    },
    {
      "cell_type": "markdown",
      "source": [
        "#Assignment Overview:\n",
        "---\n",
        "This assignment aims to evaluate your grasp of the Python fundamentals discussed during our onsite sessions. The topics covered include:\n",
        "---\n",
        "\n",
        "<li>Print statements\n",
        "<li>Strings\n",
        "<li>f-Strings\n",
        "<li>Operators\n",
        "<li>Lists\n",
        "<li>Tuples\n",
        "<li>For loops\n",
        "<li>Input handling\n",
        "\n",
        "---\n"
      ],
      "metadata": {
        "id": "kJa_-9SDtjNd"
      }
    },
    {
      "cell_type": "code",
      "execution_count": 1,
      "metadata": {
        "colab": {
          "base_uri": "https://localhost:8080/"
        },
        "id": "TE2DT_pKtYh8",
        "outputId": "5a83f1c9-e898-4976-f8e3-6ded05c13ec2"
      },
      "outputs": [
        {
          "output_type": "stream",
          "name": "stdout",
          "text": [
            "Hello, world!\n"
          ]
        }
      ],
      "source": [
        "# prompt: This assignment aims to evaluate your grasp of the Python fundamentals discussed during our onsite sessions. The topics covered include:\n",
        "# Print statements\n",
        "\n",
        "print(\"Hello, world!\")\n"
      ]
    },
    {
      "cell_type": "code",
      "source": [
        "# string\n",
        "name:str = \"Ali\"\n",
        "print(name)"
      ],
      "metadata": {
        "colab": {
          "base_uri": "https://localhost:8080/"
        },
        "id": "qsOqX8K9uYow",
        "outputId": "d72c09e0-4c7b-4297-e289-b903ac3874b9"
      },
      "execution_count": 2,
      "outputs": [
        {
          "output_type": "stream",
          "name": "stdout",
          "text": [
            "Ali\n"
          ]
        }
      ]
    },
    {
      "cell_type": "code",
      "source": [
        "#f-string\n",
        "name:str = \"Ali\"\n",
        "age:int = 20\n",
        "print(f\"My name is {name} and I am {age} years old.\")"
      ],
      "metadata": {
        "colab": {
          "base_uri": "https://localhost:8080/"
        },
        "id": "UMIH_--6uyyG",
        "outputId": "742c98cc-6b71-421c-b05f-b5558b139292"
      },
      "execution_count": 3,
      "outputs": [
        {
          "output_type": "stream",
          "name": "stdout",
          "text": [
            "My name is Ali and I am 20 years old.\n"
          ]
        }
      ]
    },
    {
      "cell_type": "code",
      "source": [
        "# Operators\n",
        "# Arithmetic Operators (+,-,%,*)\n",
        "# Assignment Operators (=)\n",
        "# Comparison Operators (==, <=, >=, !=, )\n",
        "# Logical Operators  (!, || , &&)\n",
        "# Identity Operators\n",
        "# Membership Operators\n",
        "# Bitwise Operators (ON , OFF , TRUE , False, 1, 0)\n",
        "\n",
        "a: int = 10\n",
        "b: int = 5\n",
        "\n",
        "print(\"Arithmetic Operators\",a + b)\n",
        "print(\"Arithmetic Operators\",a - b)\n",
        "print(\"Arithmetic Operators\",a * b)\n",
        "print(\"Arithmetic Operators\",a / b)\n",
        "print(\"Arithmetic Operators\",a % b)\n",
        "print(\"Arithmetic Operators\",a ** b)\n",
        "print(\"Arithmetic Operators\",a // b)\n",
        "a = b\n",
        "print(\"Assignment Operator\",a)\n",
        "\n",
        "print(\"Comparison Operator\",a == b)\n",
        "print(\"Comparison Operator\",a != b)\n",
        "print(\"Comparison Operator\",a > b)\n",
        "print(\"Comparison Operator\",a < b)\n",
        "print(\"Comparison Operator\",a >= b)\n",
        "print(\"Comparison Operator\",a <= b)\n",
        "print(\"Logical Operator\",a and b)\n",
        "print(\"Logical Operator\",a or b)\n",
        "print(\"Logical Operator\",not a)\n",
        "print(\"Logical Operator\",not b)\n"
      ],
      "metadata": {
        "colab": {
          "base_uri": "https://localhost:8080/"
        },
        "id": "arYwcXTivA7u",
        "outputId": "c77c2912-4b68-438f-c750-2916f23bc006"
      },
      "execution_count": 5,
      "outputs": [
        {
          "output_type": "stream",
          "name": "stdout",
          "text": [
            "Arithmetic Operators 15\n",
            "Arithmetic Operators 5\n",
            "Arithmetic Operators 50\n",
            "Arithmetic Operators 2.0\n",
            "Arithmetic Operators 0\n",
            "Arithmetic Operators 100000\n",
            "Arithmetic Operators 2\n",
            "Assignment Operator 5\n",
            "Comparison Operator True\n",
            "Comparison Operator False\n",
            "Comparison Operator False\n",
            "Comparison Operator False\n",
            "Comparison Operator True\n",
            "Comparison Operator True\n",
            "Logical Operator 5\n",
            "Logical Operator 5\n",
            "Logical Operator False\n",
            "Logical Operator False\n"
          ]
        }
      ]
    },
    {
      "cell_type": "code",
      "source": [
        "# Lists\n",
        "fruits = [\"apple\", \"banana\", \"cherry\"]\n",
        "print(fruits)\n",
        "fruits.append(\"orange\")\n",
        "print(fruits)\n",
        "fruits.remove(\"banana\")\n",
        "print(fruits)"
      ],
      "metadata": {
        "colab": {
          "base_uri": "https://localhost:8080/"
        },
        "id": "vTzlch0ByRJ4",
        "outputId": "550192a3-b519-4ba4-919c-e94e602204df"
      },
      "execution_count": 6,
      "outputs": [
        {
          "output_type": "stream",
          "name": "stdout",
          "text": [
            "['apple', 'banana', 'cherry']\n",
            "['apple', 'banana', 'cherry', 'orange']\n",
            "['apple', 'cherry', 'orange']\n"
          ]
        }
      ]
    },
    {
      "cell_type": "code",
      "source": [
        "# Tuples\n",
        "fruits = (\"apple\", \"banana\", \"cherry\")\n",
        "print(fruits)"
      ],
      "metadata": {
        "colab": {
          "base_uri": "https://localhost:8080/"
        },
        "id": "sjaOfnlpydjj",
        "outputId": "7da5402e-2ac2-4e88-f145-3212c4da0750"
      },
      "execution_count": 7,
      "outputs": [
        {
          "output_type": "stream",
          "name": "stdout",
          "text": [
            "('apple', 'banana', 'cherry')\n"
          ]
        }
      ]
    },
    {
      "cell_type": "code",
      "source": [
        "# For loops\n",
        "fruits = [\"apple\", \"banana\", \"cherry\"]\n",
        "for fruit in fruits:\n",
        "  print(fruit)"
      ],
      "metadata": {
        "colab": {
          "base_uri": "https://localhost:8080/"
        },
        "id": "UYVNOeKDyriT",
        "outputId": "a8d22ef0-f9c0-4a4c-958f-c0eb693a9c15"
      },
      "execution_count": 10,
      "outputs": [
        {
          "output_type": "stream",
          "name": "stdout",
          "text": [
            "apple\n",
            "banana\n",
            "cherry\n"
          ]
        }
      ]
    },
    {
      "cell_type": "code",
      "source": [
        "# Input handling\n",
        "name = input(\"What is your name? \")\n",
        "print(\"Hello, \" + name + \"!\")"
      ],
      "metadata": {
        "colab": {
          "base_uri": "https://localhost:8080/"
        },
        "id": "QCRSz-YCy5wE",
        "outputId": "dec77af7-c1c8-46a3-f925-cf53320046ac"
      },
      "execution_count": 12,
      "outputs": [
        {
          "output_type": "stream",
          "name": "stdout",
          "text": [
            "What is your name? Hamza\n",
            "Hello, Hamza!\n"
          ]
        }
      ]
    }
  ]
}