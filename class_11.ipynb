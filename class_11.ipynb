{
  "nbformat": 4,
  "nbformat_minor": 0,
  "metadata": {
    "colab": {
      "provenance": [],
      "authorship_tag": "ABX9TyMMIyoiBtlPart+Ih5qKfS6",
      "include_colab_link": true
    },
    "kernelspec": {
      "name": "python3",
      "display_name": "Python 3"
    },
    "language_info": {
      "name": "python"
    }
  },
  "cells": [
    {
      "cell_type": "markdown",
      "metadata": {
        "id": "view-in-github",
        "colab_type": "text"
      },
      "source": [
        "<a href=\"https://colab.research.google.com/github/AmeerHamza-345/https---github.com-AmeerHamza-345/blob/main/class_11.ipynb\" target=\"_parent\"><img src=\"https://colab.research.google.com/assets/colab-badge.svg\" alt=\"Open In Colab\"/></a>"
      ]
    },
    {
      "cell_type": "markdown",
      "source": [
        "#**Pass by Reference vs Pass by Value**\n",
        "**Example: Pass by Value (with Immutable Types)**\n",
        "\n",
        "\n"
      ],
      "metadata": {
        "id": "3PaTqiSZL5B8"
      }
    },
    {
      "cell_type": "code",
      "execution_count": 2,
      "metadata": {
        "colab": {
          "base_uri": "https://localhost:8080/"
        },
        "id": "GfpEOHfWLDXW",
        "outputId": "98c82a3e-5395-42b2-8eb9-d3981d32b6cc"
      },
      "outputs": [
        {
          "output_type": "stream",
          "name": "stdout",
          "text": [
            "Before function call: 132015396159856\n",
            "Inside function (before modification): 132015396159856\n",
            "Inside function (after modification): 132015396160016\n",
            "After function call: 132015396159856\n"
          ]
        }
      ],
      "source": [
        "def modify_value(num: int):\n",
        "    print(\"Inside function (before modification):\", id(num))\n",
        "    num = 10\n",
        "    print(\"Inside function (after modification):\", id(num))\n",
        "\n",
        "x = 5\n",
        "print(\"Before function call:\", id(x))\n",
        "modify_value(x)\n",
        "print(\"After function call:\", id(x))"
      ]
    },
    {
      "cell_type": "code",
      "source": [
        "num = 10\n",
        "print(type(num)) #int\n",
        "print(id(num),(num)) # 35456   10\n",
        "num:int = 2.5\n",
        "print(type(num)) #float\n",
        "print(id(num),(num)) # 35456,2.5\n",
        "print(num)\n",
        "num:int = \"3\"\n",
        "print(type(num)) #str\n",
        "print(id(num),(num)) # 35456,3\n",
        "print(num)"
      ],
      "metadata": {
        "colab": {
          "base_uri": "https://localhost:8080/"
        },
        "id": "o5BPgI6KOD4E",
        "outputId": "aef19a67-377f-4fe1-96e5-d24e6e8ddc26"
      },
      "execution_count": 1,
      "outputs": [
        {
          "output_type": "stream",
          "name": "stdout",
          "text": [
            "<class 'int'>\n",
            "132015396160016 10\n",
            "<class 'float'>\n",
            "132014965687280 2.5\n",
            "2.5\n",
            "<class 'str'>\n",
            "132015395211504 3\n",
            "3\n"
          ]
        }
      ]
    },
    {
      "cell_type": "code",
      "source": [
        "def modify_list(lst: list):\n",
        "    print(\"Inside function (before modification):\", id(lst),lst)\n",
        "    lst.append(4)\n",
        "    print(\"Inside function (after modification):\", id(lst),lst)\n",
        "my_list = [1, 2, 3]\n",
        "print(\"Before function call:\", id(my_list),my_list)\n",
        "modify_list(my_list)\n",
        "print(\"After function call:\", id(my_list),my_list)"
      ],
      "metadata": {
        "colab": {
          "base_uri": "https://localhost:8080/"
        },
        "id": "qFY0rlFMZCSw",
        "outputId": "2a2bb960-670a-4f16-cba8-0ddd650aab1e"
      },
      "execution_count": 4,
      "outputs": [
        {
          "output_type": "stream",
          "name": "stdout",
          "text": [
            "Before function call: 132014689030464 [1, 2, 3]\n",
            "Inside function (before modification): 132014689030464 [1, 2, 3]\n",
            "Inside function (after modification): 132014689030464 [1, 2, 3, 4]\n",
            "After function call: 132014689030464 [1, 2, 3, 4]\n"
          ]
        }
      ]
    },
    {
      "cell_type": "markdown",
      "source": [
        "**Mutable and Immutable Variables\n",
        "Variables in Python can be either mutable or immutable.**\n",
        "\n",
        "<li>\n",
        "**Mutable types** can be changed after they are created. Examples include **lists[]**, **dictionaries{\"key\":\"val\"}**, and **sets{}**.\n",
        "<li>\n",
        "**Immutable types** cannot be changed after they are created. Examples include **integers\n",
        " int**, **floats**, **strings \"\"**, and **tuples()**.\n",
        "\n",
        "##Example Mutable"
      ],
      "metadata": {
        "id": "Bn1iodZ8e2zn"
      }
    },
    {
      "cell_type": "code",
      "source": [
        "my_list = [1, 2, 3]\n",
        "print(\"Before modification:\", my_list, \"id:\", id(my_list))\n",
        "my_list.append(4)\n",
        "print(\"After modification:\", my_list, \"id:\", id(my_list))"
      ],
      "metadata": {
        "colab": {
          "base_uri": "https://localhost:8080/"
        },
        "id": "tis9h46ogjQG",
        "outputId": "7946855b-21d3-45ba-ab75-94b5f95a7264"
      },
      "execution_count": 5,
      "outputs": [
        {
          "output_type": "stream",
          "name": "stdout",
          "text": [
            "Before modification: [1, 2, 3] id: 132014689207168\n",
            "After modification: [1, 2, 3, 4] id: 132014689207168\n"
          ]
        }
      ]
    },
    {
      "cell_type": "code",
      "source": [
        "my_dict:dict = {'a':1,'b': 2,'c': 3}\n",
        "print(\"Before modification:\", my_dict, \"id:\", id(my_dict))\n",
        "my_dict.update({'d': 4})\n",
        "print(\"After modification:\", my_dict, \"id:\", id(my_dict))"
      ],
      "metadata": {
        "colab": {
          "base_uri": "https://localhost:8080/"
        },
        "id": "EIVfmGdAgwDl",
        "outputId": "1adb2a2e-d3f5-440c-d1fb-087217147eaa"
      },
      "execution_count": 7,
      "outputs": [
        {
          "output_type": "stream",
          "name": "stdout",
          "text": [
            "Before modification: {'a': 1, 'b': 2, 'c': 3} id: 132014689214080\n",
            "After modification: {'a': 1, 'b': 2, 'c': 3, 'd': 4} id: 132014689214080\n"
          ]
        }
      ]
    },
    {
      "cell_type": "code",
      "source": [
        "my_set = {1,2,3}\n",
        "print(\"Before modification:\", my_set, \"id:\", id(my_set))\n",
        "my_set.add(4)\n",
        "print(\"After modification:\", my_set, \"id:\", id(my_set))"
      ],
      "metadata": {
        "colab": {
          "base_uri": "https://localhost:8080/"
        },
        "id": "FW-8sqnbl0cR",
        "outputId": "c7c26e98-a431-4726-e511-83ef2d761e79"
      },
      "execution_count": 17,
      "outputs": [
        {
          "output_type": "stream",
          "name": "stdout",
          "text": [
            "Before modification: {1, 2, 3} id: 132014966196928\n",
            "After modification: {1, 2, 3, 4} id: 132014966196928\n"
          ]
        }
      ]
    },
    {
      "cell_type": "markdown",
      "source": [
        "##Example Immutable"
      ],
      "metadata": {
        "id": "B0wIUk_Yi53T"
      }
    },
    {
      "cell_type": "code",
      "source": [
        "my_string = \"hello\"\n",
        "print(\"Before modification:\", my_string, \"id:\", id(my_string))\n",
        "my_string = my_string + \" world\"\n",
        "print(\"After modification:\", my_string, \"id:\", id(my_string))"
      ],
      "metadata": {
        "colab": {
          "base_uri": "https://localhost:8080/"
        },
        "id": "Xw4Vg0ZIjHQh",
        "outputId": "25cfd91a-66a3-4e12-bb35-95cf0a705b1b"
      },
      "execution_count": 8,
      "outputs": [
        {
          "output_type": "stream",
          "name": "stdout",
          "text": [
            "Before modification: hello id: 132014969604784\n",
            "After modification: hello world id: 132014980726640\n"
          ]
        }
      ]
    },
    {
      "cell_type": "code",
      "source": [
        "my_int = 5\n",
        "print(\"Before modification:\", my_int, \"id:\", id(my_int))\n",
        "my_int = 10\n",
        "print(\"After modification:\", my_int, \"id:\", id(my_int))"
      ],
      "metadata": {
        "colab": {
          "base_uri": "https://localhost:8080/"
        },
        "id": "3Q9ZGkIIjamx",
        "outputId": "d08c78b8-c1ca-42c9-8103-c3e46dd03bff"
      },
      "execution_count": 12,
      "outputs": [
        {
          "output_type": "stream",
          "name": "stdout",
          "text": [
            "Before modification: 5 id: 132015396159856\n",
            "After modification: 10 id: 132015396160016\n"
          ]
        }
      ]
    },
    {
      "cell_type": "code",
      "source": [
        "my_float = 5.5\n",
        "print(\"Before modification:\", my_float, \"id:\", id(my_float))\n",
        "my_float = 2.5\n",
        "print(\"After modification:\", my_float, \"id:\", id(my_float))"
      ],
      "metadata": {
        "colab": {
          "base_uri": "https://localhost:8080/"
        },
        "id": "omk62Cd1kh63",
        "outputId": "a9991355-fc3d-45f7-8cbd-7905505cda2b"
      },
      "execution_count": 15,
      "outputs": [
        {
          "output_type": "stream",
          "name": "stdout",
          "text": [
            "Before modification: 5.5 id: 132014965701520\n",
            "After modification: 2.5 id: 132014965702128\n"
          ]
        }
      ]
    },
    {
      "cell_type": "code",
      "source": [
        "my_tuple = (1, 2, 3)\n",
        "print(\"Before modification:\", my_tuple, \"id:\", id(my_tuple))\n",
        "my_tuple = (1,2,3,4)\n",
        "print(\"After modification:\", my_tuple, \"id:\", id(my_tuple))"
      ],
      "metadata": {
        "colab": {
          "base_uri": "https://localhost:8080/"
        },
        "id": "fiF9PwaikwFV",
        "outputId": "3df01958-49a1-430f-e173-38667655a0a6"
      },
      "execution_count": 16,
      "outputs": [
        {
          "output_type": "stream",
          "name": "stdout",
          "text": [
            "Before modification: (1, 2, 3) id: 132014690731584\n",
            "After modification: (1, 2, 3, 4) id: 132014689409984\n"
          ]
        }
      ]
    },
    {
      "cell_type": "markdown",
      "source": [
        "##Runtime Error Classes\n",
        "Python has several built-in error classes to handle runtime errors. Here are examples of some common runtime errors:bold text"
      ],
      "metadata": {
        "id": "YIzVjthzoQkc"
      }
    },
    {
      "cell_type": "code",
      "source": [
        "try:\n",
        "    my_list = [1, 2, 3]\n",
        "    print(my_list[3])  # This will raise an IndexError\n",
        "except IndexError as e:\n",
        "    print(\"Caught an IndexError:\", str(e))"
      ],
      "metadata": {
        "colab": {
          "base_uri": "https://localhost:8080/"
        },
        "id": "aIBbwWq-oZfc",
        "outputId": "a83ab38e-f88f-41b1-fb5a-6a416c55c852"
      },
      "execution_count": 22,
      "outputs": [
        {
          "output_type": "stream",
          "name": "stdout",
          "text": [
            "Caught an IndexError: list index out of range\n"
          ]
        }
      ]
    }
  ]
}