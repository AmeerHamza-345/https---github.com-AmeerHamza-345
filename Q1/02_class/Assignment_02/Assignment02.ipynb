{
 "cells": [
  {
   "cell_type": "code",
   "execution_count": 1,
   "id": "a0acc0f8-d1da-43d6-977c-ab98f8201859",
   "metadata": {
    "scrolled": true
   },
   "outputs": [
    {
     "name": "stdout",
     "output_type": "stream",
     "text": [
      "Hello World\n"
     ]
    }
   ],
   "source": [
    "print(\"Hello World\")"
   ]
  },
  {
   "cell_type": "markdown",
   "id": "368219b2-2b18-4b34-a980-0a6b43029436",
   "metadata": {},
   "source": [
    "1. **Add two numbers**\n",
    "\n",
    "   Write a Python program that takes two integer inputs from the user and calculates their sum. The program should perform the following tasks:\n",
    "\n",
    "   1. Prompt the user to enter the first number.\n",
    "   2. Read the input and convert it to an integer.\n",
    "   3. Prompt the user to enter the second number.\n",
    "   4. Read the input and convert it to an integer.\n",
    "   5. Calculate the sum of the two numbers.\n",
    "\n",
    "   Print the total sum with an appropriate message."
   ]
  },
  {
   "cell_type": "code",
   "execution_count": 23,
   "id": "1c24edac-40d0-43d9-ae59-38903fd655d5",
   "metadata": {},
   "outputs": [
    {
     "name": "stdin",
     "output_type": "stream",
     "text": [
      "Enter first number 3\n"
     ]
    }
   ],
   "source": [
    "first_number:int = int(input(\"Enter first number\"))"
   ]
  },
  {
   "cell_type": "code",
   "execution_count": 24,
   "id": "94f5bb77-3743-407a-aecb-a950705e4156",
   "metadata": {},
   "outputs": [
    {
     "name": "stdin",
     "output_type": "stream",
     "text": [
      "Enter second number 4\n"
     ]
    }
   ],
   "source": [
    "second_number:int = int(input(\"Enter second number\"))"
   ]
  },
  {
   "cell_type": "code",
   "execution_count": 20,
   "id": "eb2ea610-9a78-4739-b297-4bbf043986cf",
   "metadata": {},
   "outputs": [
    {
     "name": "stdout",
     "output_type": "stream",
     "text": [
      "<class 'int'>\n"
     ]
    }
   ],
   "source": [
    "print(type(second_number))"
   ]
  },
  {
   "cell_type": "code",
   "execution_count": 25,
   "id": "4b364186-5e02-4f67-a9bd-10683417b66d",
   "metadata": {},
   "outputs": [],
   "source": [
    "total_number:int = first_number + second_number"
   ]
  },
  {
   "cell_type": "code",
   "execution_count": 26,
   "id": "5a33c9bb-1910-45b6-9684-fedfdb42e16a",
   "metadata": {},
   "outputs": [
    {
     "name": "stdout",
     "output_type": "stream",
     "text": [
      "first number 3 second number 4 total number 7\n"
     ]
    }
   ],
   "source": [
    "print(f\"first number {first_number} second number {second_number} total number {total_number}\")"
   ]
  },
  {
   "cell_type": "markdown",
   "id": "0fdf2731-c631-4fc5-9df6-dbce134cac02",
   "metadata": {},
   "source": [
    "2. **Agreement Boot**\n",
    "\n",
    "   Write a program which asks the user what their favorite animal is, and then always responds with \"My favorite animal is also \\_\\_\\_!\" (the blank should be filled in with the user-inputted animal, of course).\n",
    "\n",
    "   Here's a sample run of the program (user input is in bold italics - note the space between the prompt and the user input!):\n",
    "\n",
    "   ```\n",
    "   What's your favorite animal? cow\n",
    "\n",
    "   My favorite animal is also cow!"
   ]
  },
  {
   "cell_type": "code",
   "execution_count": 32,
   "id": "24a63377-6149-4c69-9d2c-4586dc6d4444",
   "metadata": {},
   "outputs": [
    {
     "name": "stdin",
     "output_type": "stream",
     "text": [
      "what's your favorite animal cow\n"
     ]
    }
   ],
   "source": [
    "favorite_number:str = input(\"what's your favorite animal\")"
   ]
  },
  {
   "cell_type": "code",
   "execution_count": 35,
   "id": "ceda37af-02e0-4fbc-a9b8-961e060cc7ed",
   "metadata": {},
   "outputs": [
    {
     "name": "stdout",
     "output_type": "stream",
     "text": [
      "My favorite animal is also cow!\n"
     ]
    }
   ],
   "source": [
    "print(f\"My favorite animal is also {favorite_number}!\")"
   ]
  },
  {
   "cell_type": "markdown",
   "id": "4a6d71e5-3ef8-4f5f-a89c-5f51847f5408",
   "metadata": {},
   "source": [
    "3. **Fahrenheit to Celsius**\n",
    "   Write a program which prompts the user for a temperature in Fahrenheit (this can be a number with decimal places!) and outputs the temperature converted to Celsius.\n",
    "\n",
    "   The Celsius scale is widely used to measure temperature, but places still use Fahrenheit. Fahrenheit is another unit for temperature, but the scale is different from Celsius -- for example, 0 degrees Celsius is 32 degrees Fahrenheit!\n",
    "\n",
    "   The equation you should use for converting from Fahrenheit to Celsius is the following:\n",
    "\n",
    "   degrees_celsius = (degrees_fahrenheit - 32) \\* 5.0/9.0\n",
    "\n",
    "   (Note. The .0 after the 5 and 9 matters in the line above!!!)\n",
    "\n",
    "   Here's a sample run of the program (user input is in bold italics):\n",
    "\n",
    "   ```\n",
    "   Enter temperature in Fahrenheit: 76\n",
    "\n",
    "   Temperature: 76.0F = 24.444444444444443C\n",
    "   ```"
   ]
  },
  {
   "cell_type": "code",
   "execution_count": 41,
   "id": "32b45a0f-590d-409d-8efc-2050eededde1",
   "metadata": {},
   "outputs": [
    {
     "name": "stdin",
     "output_type": "stream",
     "text": [
      " 76\n"
     ]
    }
   ],
   "source": [
    "fahrenheit = float(input())"
   ]
  },
  {
   "cell_type": "code",
   "execution_count": 42,
   "id": "fe1200e5-35d6-47d0-a68c-f07bf315873b",
   "metadata": {},
   "outputs": [],
   "source": [
    "celsius = (fahrenheit-32)*5.0/9.0"
   ]
  },
  {
   "cell_type": "code",
   "execution_count": 44,
   "id": "1e8652f5-1969-4958-bf79-4dcccb4a3cd9",
   "metadata": {},
   "outputs": [
    {
     "name": "stdout",
     "output_type": "stream",
     "text": [
      "Temperature:76.0F = 24.444444444444443C\n"
     ]
    }
   ],
   "source": [
    "print(f\"Temperature:{fahrenheit}F = {celsius}C\")"
   ]
  },
  {
   "cell_type": "markdown",
   "id": "0ff1a8ce-77ed-45a4-98be-bb60dbeac7ed",
   "metadata": {},
   "source": [
    "4. **Triangle Perimeters**\n",
    "   Prompt the user to enter the lengths of each side of a triangle and then calculate and print the perimeter of the triangle (the sum of all of the side lengths).\n",
    "\n",
    "   Here's a sample run of the program (user input is in bold italics):\n",
    "\n",
    "   ```\n",
    "   What is the length of side 1? 3\n",
    "\n",
    "   What is the length of side 2? 4\n",
    "\n",
    "   What is the length of side 3? 5.5\n",
    "\n",
    "   The perimeter of the triangle is 12.5\n",
    "   ```"
   ]
  },
  {
   "cell_type": "code",
   "execution_count": 47,
   "id": "edd0114e-7f1a-4d15-9459-2785274fdc03",
   "metadata": {},
   "outputs": [
    {
     "name": "stdin",
     "output_type": "stream",
     "text": [
      "What is the length of side1? 3\n"
     ]
    }
   ],
   "source": [
    "side1 = float(input(\"What is the length of side1?\"))"
   ]
  },
  {
   "cell_type": "code",
   "execution_count": 48,
   "id": "93592c99-1774-44ce-9ba2-178393923f06",
   "metadata": {},
   "outputs": [
    {
     "name": "stdin",
     "output_type": "stream",
     "text": [
      "What is the length of side2? 4\n"
     ]
    }
   ],
   "source": [
    "side2 = float(input(\"What is the length of side2?\"))"
   ]
  },
  {
   "cell_type": "code",
   "execution_count": 49,
   "id": "2c1ed5b2-b824-4b0f-8486-754e07bd26c8",
   "metadata": {},
   "outputs": [
    {
     "name": "stdin",
     "output_type": "stream",
     "text": [
      "What is the length of side3? 5.5\n"
     ]
    }
   ],
   "source": [
    "side3 = float(input(\"What is the length of side3?\"))"
   ]
  },
  {
   "cell_type": "code",
   "execution_count": 51,
   "id": "33bc082e-7b2f-4234-80cb-4733731bf319",
   "metadata": {},
   "outputs": [],
   "source": [
    "perimeter =  side1 + side2 + side3"
   ]
  },
  {
   "cell_type": "code",
   "execution_count": 52,
   "id": "f667b90a-ed25-4b25-8ab6-0bbe6cfb378c",
   "metadata": {},
   "outputs": [
    {
     "name": "stdout",
     "output_type": "stream",
     "text": [
      "The perimeter of the triangle is 12.5\n"
     ]
    }
   ],
   "source": [
    "print(f\"The perimeter of the triangle is {perimeter}\")"
   ]
  },
  {
   "cell_type": "markdown",
   "id": "25446b89-d60f-4535-b996-3ed36c91cb02",
   "metadata": {},
   "source": [
    "5. **Square Number**\n",
    "   Ask the user for a number and print its square (the product of the number times itself).\n",
    "\n",
    "   Here's a sample run of the program (user input is in bold italics):\n",
    "\n",
    "   ```\n",
    "   Type a number to see its square: 4\n",
    "\n",
    "   4.0 squared is 16.0\n",
    "   ```"
   ]
  },
  {
   "cell_type": "code",
   "execution_count": 53,
   "id": "5801b3fa-1fc4-46e4-8613-6f1e056121f4",
   "metadata": {},
   "outputs": [
    {
     "name": "stdin",
     "output_type": "stream",
     "text": [
      "Type a number to see its square: 4\n"
     ]
    }
   ],
   "source": [
    "number = float(input(\"Type a number to see its square:\"))"
   ]
  },
  {
   "cell_type": "code",
   "execution_count": 54,
   "id": "929b66fb-512e-44f4-925c-829ad3c9eb21",
   "metadata": {},
   "outputs": [],
   "source": [
    "square = number**2"
   ]
  },
  {
   "cell_type": "code",
   "execution_count": 56,
   "id": "8eec56c7-b62e-44da-ab0e-398402e56841",
   "metadata": {},
   "outputs": [
    {
     "name": "stdout",
     "output_type": "stream",
     "text": [
      " 4.0 squared is 16.0\n"
     ]
    }
   ],
   "source": [
    "print(f\" {number} squared is {square}\")"
   ]
  },
  {
   "cell_type": "code",
   "execution_count": null,
   "id": "f1512c1b-d67b-45fd-8ce5-2febcb69e676",
   "metadata": {},
   "outputs": [],
   "source": []
  }
 ],
 "metadata": {
  "kernelspec": {
   "display_name": "Python 3 (ipykernel)",
   "language": "python",
   "name": "python3"
  },
  "language_info": {
   "codemirror_mode": {
    "name": "ipython",
    "version": 3
   },
   "file_extension": ".py",
   "mimetype": "text/x-python",
   "name": "python",
   "nbconvert_exporter": "python",
   "pygments_lexer": "ipython3",
   "version": "3.12.3"
  }
 },
 "nbformat": 4,
 "nbformat_minor": 5
}
