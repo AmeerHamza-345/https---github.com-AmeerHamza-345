{
 "cells": [
  {
   "cell_type": "markdown",
   "metadata": {},
   "source": [
    "# Basic Calculator Operations in Python"
   ]
  },
  {
   "cell_type": "markdown",
   "metadata": {},
   "source": [
    "Objective\n",
    "In this assignment, you will write a Python program to perform basic calculator operations: addition,\n",
    "subtraction, multiplication, and division.\n",
    "\n",
    "Instructions\n",
    "\n",
    "1. # Input and Operations\n",
    "- ## Option 1: User Input\n",
    "If you are familiar with taking user input in Python, write a program that takes two numbers and an\n",
    "operation (addition, subtraction, multiplication, or division) as input from the user and performs the\n",
    "corresponding operation."
   ]
  },
  {
   "cell_type": "code",
   "execution_count": 2,
   "metadata": {},
   "outputs": [
    {
     "name": "stdout",
     "output_type": "stream",
     "text": [
      "result: 4\n"
     ]
    }
   ],
   "source": [
    "# print(\"+ Add - Subtract * Multiply / Divide\")\n",
    "\n",
    "num1:int = int(input(\"Enter first number: \")) # Forexample 10\n",
    "num2:int = int(input(\"Enter second number: \")) # Forexample 5\n",
    "opr:str = input(\"Enter operation (+, -, *, /): \") # Forexample +\n",
    "\n",
    "if opr==\"+\":\n",
    "    print(\"result:\", num1 + num2) \n",
    "\n",
    "elif opr==\"-\":\n",
    "    print(\"result:\", num1 - num2)    \n",
    "elif opr==\"*\":\n",
    "    print(\"result:\", num1 * num2) \n",
    "elif opr==\"/\":\n",
    "    print(\"result:\", num1 / num2)     \n",
    "else:\n",
    "    print(\"invalid operation\")"
   ]
  },
  {
   "cell_type": "markdown",
   "metadata": {},
   "source": [
    "- # Option 2:"
   ]
  },
  {
   "cell_type": "markdown",
   "metadata": {},
   "source": [
    " Variables\n",
    "If you are not familiar with taking user input in Python, store two numbers in variables and perform\n",
    "the operations on these variables."
   ]
  },
  {
   "cell_type": "code",
   "execution_count": 13,
   "metadata": {},
   "outputs": [
    {
     "name": "stdout",
     "output_type": "stream",
     "text": [
      "Addition of 10 and 5: 15\n",
      "Subtraction of 10 and 5: 5\n",
      "Multiplication of 10 and 5: 50\n",
      "Division of 10 and 5: 2.0\n"
     ]
    }
   ],
   "source": [
    "a:int = 10\n",
    "b:int = 5\n",
    "\n",
    "addition = a + b\n",
    "subtraction = a - b\n",
    "multiplication = a * b\n",
    "division = a / b\n",
    "\n",
    "print(f\"Addition of {a} and {b}: {addition}\")\n",
    "print(f\"Subtraction of {a} and {b}: {subtraction}\")\n",
    "print(f\"Multiplication of {a} and {b}: {multiplication}\")\n",
    "print(f\"Division of {a} and {b}: {division}\")"
   ]
  },
  {
   "cell_type": "markdown",
   "metadata": {},
   "source": [
    "# 3. Sample Input/Output\n",
    "- For user input method:\n",
    "Enter first number: 10\n",
    "Enter second number: 5\n",
    "Enter operation (+, -, *, /): +"
   ]
  },
  {
   "cell_type": "code",
   "execution_count": 18,
   "metadata": {},
   "outputs": [
    {
     "name": "stdout",
     "output_type": "stream",
     "text": [
      "Result: 15.0\n"
     ]
    }
   ],
   "source": [
    "def add(x, y):\n",
    "    return x + y\n",
    "\n",
    "def subtract(x, y):\n",
    "    return x - y\n",
    "\n",
    "def multiply(x, y):\n",
    "    return x * y\n",
    "\n",
    "def divide(x, y):\n",
    "    return x / y\n",
    "\n",
    "def calculator():\n",
    "    num1:float = float(input(\"Enter first number: \"))\n",
    "    num2:float = float(input(\"Enter second number: \"))\n",
    "    operation = input(\"Enter operation (+, -, *, /): \")\n",
    "\n",
    "    if operation == \"+\":\n",
    "        print(f\"Result: {add(num1, num2)}\")\n",
    "    elif operation == \"-\":\n",
    "        print(f\"Result: {subtract(num1, num2)}\")\n",
    "    elif operation == \"*\":\n",
    "        print(f\"Result: {multiply(num1, num2)}\")\n",
    "    elif operation == \"/\":\n",
    "        if num2 != 0:\n",
    "            print(f\"Result: {divide(num1, num2)}\")\n",
    "        else:\n",
    "            print(\"Error: Division by zero is not allowed.\")\n",
    "    else:\n",
    "        print(\"Invalid operation.\")\n",
    "\n",
    "\n",
    "calculator()\n"
   ]
  }
 ],
 "metadata": {
  "kernelspec": {
   "display_name": "Python 3",
   "language": "python",
   "name": "python3"
  },
  "language_info": {
   "codemirror_mode": {
    "name": "ipython",
    "version": 3
   },
   "file_extension": ".py",
   "mimetype": "text/x-python",
   "name": "python",
   "nbconvert_exporter": "python",
   "pygments_lexer": "ipython3",
   "version": "3.12.5"
  }
 },
 "nbformat": 4,
 "nbformat_minor": 2
}
