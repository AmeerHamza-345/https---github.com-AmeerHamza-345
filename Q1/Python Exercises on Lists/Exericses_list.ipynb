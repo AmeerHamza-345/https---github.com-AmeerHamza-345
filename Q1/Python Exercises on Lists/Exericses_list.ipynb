{
 "cells": [
  {
   "cell_type": "markdown",
   "metadata": {},
   "source": [
    "# Python Exercises on Lists"
   ]
  },
  {
   "cell_type": "markdown",
   "metadata": {},
   "source": [
    "* Exercise 3-1: Names\n",
    "● Task: Store the names of a few of your friends in a list called names. Print each person’s\n",
    "name by accessing each element in the list, one at a time."
   ]
  },
  {
   "cell_type": "code",
   "execution_count": 1,
   "metadata": {},
   "outputs": [
    {
     "name": "stdout",
     "output_type": "stream",
     "text": [
      "Alice\n",
      "Bob\n",
      "Charlie\n",
      "Diana\n"
     ]
    }
   ],
   "source": [
    "# Step 1: Create a list with friends' names\n",
    "names:list= [\"Alice\", \"Bob\", \"Charlie\", \"Diana\"]\n",
    "\n",
    "# Step 2: Print each name by accessing each element in the list\n",
    "for name in names:\n",
    "    print(name)"
   ]
  },
  {
   "cell_type": "markdown",
   "metadata": {},
   "source": [
    "# Exercise 3-2: Greetings\n",
    "● Task: Start with the list you used in Exercise 3-1. Instead of just printing each person’s\n",
    "name, print a message to them. The text of each message should be the same, but each\n",
    "message should be personalized with the person’s name."
   ]
  },
  {
   "cell_type": "code",
   "execution_count": 2,
   "metadata": {},
   "outputs": [
    {
     "name": "stdout",
     "output_type": "stream",
     "text": [
      "Hello, Alice! Hope you're having a great day!\n",
      "Hello, Bob! Hope you're having a great day!\n",
      "Hello, Charlie! Hope you're having a great day!\n",
      "Hello, Diana! Hope you're having a great day!\n"
     ]
    }
   ],
   "source": [
    "# Step 1: Create a list with friends' names\n",
    "names:list = [\"Alice\", \"Bob\", \"Charlie\", \"Diana\"]\n",
    "\n",
    "# Step 2: Print a personalized greeting message for each name\n",
    "for name in names:\n",
    "    print(f\"Hello, {name}! Hope you're having a great day!\")"
   ]
  },
  {
   "cell_type": "markdown",
   "metadata": {},
   "source": [
    "# Exercise 3-3: Your Own List\n",
    "● Task: Think of your favorite mode of transportation, such as a motorcycle or a car, and\n",
    "make a list that stores several examples. Use your list to print a series of statements\n",
    "about these items, such as “I would like to own a Honda motorcycle.”"
   ]
  },
  {
   "cell_type": "code",
   "execution_count": 4,
   "metadata": {},
   "outputs": [
    {
     "name": "stdout",
     "output_type": "stream",
     "text": [
      "I would like to own a Honda motorcycle.\n",
      "I would like to own a Yamaha motorcycle.\n",
      "I would like to own a Kawasaki motorcycle.\n",
      "I would like to own a Harley-Davidson motorcycle.\n"
     ]
    }
   ],
   "source": [
    "# Step 1: Create a list with examples of motorcycles\n",
    "motorcycle:list = [\"Honda\", \"Yamaha\", \"Kawasaki\", \"Harley-Davidson\"]\n",
    "\n",
    "# Step 2: Print a statement about each motorcycle\n",
    "for motorcycle in motorcycle:\n",
    "    print(f\"I would like to own a {motorcycle} motorcycle.\")"
   ]
  },
  {
   "cell_type": "markdown",
   "metadata": {},
   "source": [
    "# Exercise 3-4: Guest List\n",
    "● Task: If you could invite anyone, living or deceased, to dinner, who would you invite?\n",
    "Make a list that includes at least three people you’d like to invite to dinner. Then use your\n",
    "list to print a message to each person, inviting them to dinner."
   ]
  },
  {
   "cell_type": "code",
   "execution_count": 7,
   "metadata": {},
   "outputs": [
    {
     "name": "stdout",
     "output_type": "stream",
     "text": [
      "Dear, Zia Khan! you'd like to invite you to dinner.\n",
      "Dear, Jahazaib! you'd like to invite you to dinner.\n",
      "Dear, Jnuaid! you'd like to invite you to dinner.\n"
     ]
    }
   ],
   "source": [
    "# Step 1: Create a list with the names of people you'd like to invite to dinner\n",
    "Guest:list = [\"Zia Khan\",\"Jahazaib\",\"Jnuaid\"]\n",
    "\n",
    "# Step 2: Print a personalized invitation message for each guest\n",
    "for Guest in Guest:\n",
    "    print(f\"Dear, {Guest}! you'd like to invite you to dinner.\")"
   ]
  },
  {
   "cell_type": "markdown",
   "metadata": {},
   "source": [
    "# Exercise 3-5: Changing Guest List\n",
    "● Task: Start with your program from Exercise 3-4. Add a print() call at the end of your\n",
    "program, stating the name of the guest who can’t make it. Modify your list, replacing the\n",
    "\n",
    "name of the guest who can’t make it with the name of the new person you are inviting.\n",
    "Print a second set of invitation messages, one for each person who is still in your list."
   ]
  },
  {
   "cell_type": "code",
   "execution_count": 8,
   "metadata": {},
   "outputs": [
    {
     "name": "stdout",
     "output_type": "stream",
     "text": [
      "Dear Zia Khan, I would like to invite you to dinner.\n",
      "Dear Jahazaib, I would like to invite you to dinner.\n",
      "Dear Junaid, I would like to invite you to dinner.\n",
      "\n",
      "Unfortunately, Jahazaib can't make it.\n",
      "\n",
      "Dear Zia Khan, I would like to invite you to dinner.\n",
      "Dear Ali, I would like to invite you to dinner.\n",
      "Dear Junaid, I would like to invite you to dinner.\n"
     ]
    }
   ],
   "source": [
    "# Guest list\n",
    "guests = [\"Zia Khan\", \"Jahazaib\", \"Junaid\"]\n",
    "\n",
    "# Initial invitations\n",
    "print(f\"Dear {guests[0]}, I would like to invite you to dinner.\")\n",
    "print(f\"Dear {guests[1]}, I would like to invite you to dinner.\")\n",
    "print(f\"Dear {guests[2]}, I would like to invite you to dinner.\")\n",
    "\n",
    "# Update the guest list\n",
    "print(f\"\\nUnfortunately, {guests[1]} can't make it.\")\n",
    "guests[1] = \"Ali\"\n",
    "\n",
    "# New invitations\n",
    "print(f\"\\nDear {guests[0]}, I would like to invite you to dinner.\")\n",
    "print(f\"Dear {guests[1]}, I would like to invite you to dinner.\")\n",
    "print(f\"Dear {guests[2]}, I would like to invite you to dinner.\")"
   ]
  },
  {
   "cell_type": "markdown",
   "metadata": {},
   "source": [
    "# Exercise 3-6: More Guests\n",
    "● Task: Start with your program from Exercise 3-4 or 3-5. Add a print() call to the end\n",
    "of your program, informing people that you found a bigger table. Use insert() to add\n",
    "one new guest to the beginning of your list. Use insert() to add one new guest to the\n",
    "middle of your list. Use append() to add one new guest to the end of your list. Print a\n",
    "new set of invitation messages, one for each person in your list."
   ]
  },
  {
   "cell_type": "code",
   "execution_count": 9,
   "metadata": {},
   "outputs": [
    {
     "name": "stdout",
     "output_type": "stream",
     "text": [
      "Dear Dave, you are invited to dinner.\n",
      "Dear Alice, you are invited to dinner.\n",
      "Dear Eve, you are invited to dinner.\n",
      "Dear Bob, you are invited to dinner.\n",
      "Dear Frank, you are invited to dinner.\n",
      "Dear Charlie, you are invited to dinner.\n",
      "\n",
      "Good news! We found a bigger table.\n",
      "\n"
     ]
    }
   ],
   "source": [
    "# Guest list\n",
    "guests:list = ['Alice', 'Bob', 'Charlie']\n",
    "\n",
    "# Update the guest list\n",
    "guests = ['Dave'] + guests[:1] + ['Eve'] + guests[1:2] + ['Frank'] + guests[2:]\n",
    "\n",
    "# Print invitations\n",
    "print(\"\\n\".join(f\"Dear {guest}, you are invited to dinner.\" for guest in guests))\n",
    "print(\"\\nGood news! We found a bigger table.\\n\")"
   ]
  },
  {
   "cell_type": "markdown",
   "metadata": {},
   "source": [
    "# Exercise 3-7: Shrinking Guest List\n",
    "● Task: Start with your program from Exercise 3-6. Add a new line that prints a message\n",
    "saying that you can invite only two people for dinner. Use pop() to remove guests from\n",
    "your list one at a time until only two names remain in your list. Each time you pop a\n",
    "name from your list, print a message to that person letting them know you’re sorry you\n",
    "can’t invite them to dinner. Print a message to each of the two people still on your list,\n",
    "letting them know they’re still invited. Use del to remove the last two names from your\n",
    "list, so you have an empty list. Print your list to make sure you actually have an empty\n",
    "list at the end of your program."
   ]
  },
  {
   "cell_type": "code",
   "execution_count": 10,
   "metadata": {},
   "outputs": [
    {
     "name": "stdout",
     "output_type": "stream",
     "text": [
      "We can only invite two people to dinner.\n",
      "Sorry, Frank, we can't invite you to dinner.\n",
      "Sorry, Charlie, we can't invite you to dinner.\n",
      "Sorry, Bob, we can't invite you to dinner.\n",
      "Sorry, Eve, we can't invite you to dinner.\n",
      "Dear Dave, you are still invited to dinner.\n",
      "Dear Alice, you are still invited to dinner.\n",
      "Guest list: []\n"
     ]
    }
   ],
   "source": [
    "# Guest list\n",
    "guests:list = ['Dave', 'Alice', 'Eve', 'Bob', 'Charlie', 'Frank']\n",
    "\n",
    "# Notify about the reduction\n",
    "print(\"We can only invite two people to dinner.\")\n",
    "\n",
    "# Remove guests until only two remain\n",
    "while len(guests) > 2:\n",
    "    print(f\"Sorry, {guests.pop()}, we can't invite you to dinner.\")\n",
    "\n",
    "# Print invitations for the remaining guests\n",
    "for guest in guests:\n",
    "    print(f\"Dear {guest}, you are still invited to dinner.\")\n",
    "\n",
    "# Empty the list\n",
    "guests = []\n",
    "print(\"Guest list:\", guests)"
   ]
  },
  {
   "cell_type": "markdown",
   "metadata": {},
   "source": [
    "# Exercise 3-8: Seeing the World\n",
    "● Task: Think of at least five places in the world you’d like to visit. Store the locations in a\n",
    "list. Make sure the list is not in alphabetical order. Print your list in its original order. Don’t\n",
    "worry about printing the list neatly; just print it as a raw Python list. Use sorted() to\n",
    "print your list in alphabetical order without modifying the actual list. Show that your list is\n",
    "still in its original order by printing it. Use sorted() to print your list in\n",
    "reverse-alphabetical order without changing the order of the original list. Show that your\n",
    "list is still in its original order by printing it again. Use reverse() to change the order of\n",
    "your list. Print the list to show that its order has changed. Use reverse() to change the\n",
    "order of your list again. Print the list to show it’s back to its original order. Use sort() to\n",
    "change your list so it’s stored in alphabetical order. Print the list to show that its order"
   ]
  },
  {
   "cell_type": "code",
   "execution_count": 11,
   "metadata": {},
   "outputs": [
    {
     "name": "stdout",
     "output_type": "stream",
     "text": [
      "Original list:\n",
      "['Paris', 'New York', 'Tokyo', 'Sydney', 'Rome']\n",
      "\n",
      "Sorted list:\n",
      "['New York', 'Paris', 'Rome', 'Sydney', 'Tokyo']\n",
      "\n",
      "Original list still in original order:\n",
      "['Paris', 'New York', 'Tokyo', 'Sydney', 'Rome']\n",
      "\n",
      "Reverse-sorted list:\n",
      "['Tokyo', 'Sydney', 'Rome', 'Paris', 'New York']\n",
      "\n",
      "Original list still in original order:\n",
      "['Paris', 'New York', 'Tokyo', 'Sydney', 'Rome']\n",
      "\n",
      "List after reversing:\n",
      "['Rome', 'Sydney', 'Tokyo', 'New York', 'Paris']\n",
      "\n",
      "List restored to original order:\n",
      "['Paris', 'New York', 'Tokyo', 'Sydney', 'Rome']\n",
      "\n",
      "List sorted in alphabetical order:\n",
      "['New York', 'Paris', 'Rome', 'Sydney', 'Tokyo']\n"
     ]
    }
   ],
   "source": [
    "# List of places to visit\n",
    "places:list = ['Paris', 'New York', 'Tokyo', 'Sydney', 'Rome']\n",
    "\n",
    "# Print original list\n",
    "print(\"Original list:\")\n",
    "print(places)\n",
    "\n",
    "# Print sorted list without modifying the original\n",
    "print(\"\\nSorted list:\")\n",
    "print(sorted(places))\n",
    "\n",
    "# Print list again to show it's still in original order\n",
    "print(\"\\nOriginal list still in original order:\")\n",
    "print(places)\n",
    "\n",
    "# Print reverse-sorted list without modifying the original\n",
    "print(\"\\nReverse-sorted list:\")\n",
    "print(sorted(places, reverse=True))\n",
    "\n",
    "# Print list again to show it's still in original order\n",
    "print(\"\\nOriginal list still in original order:\")\n",
    "print(places)\n",
    "\n",
    "# Reverse the order of the list\n",
    "places.reverse()\n",
    "print(\"\\nList after reversing:\")\n",
    "print(places)\n",
    "\n",
    "# Reverse it back to original order\n",
    "places.reverse()\n",
    "print(\"\\nList restored to original order:\")\n",
    "print(places)\n",
    "\n",
    "# Sort the list in place\n",
    "places.sort()\n",
    "print(\"\\nList sorted in alphabetical order:\")\n",
    "print(places)\n"
   ]
  }
 ],
 "metadata": {
  "kernelspec": {
   "display_name": "Python 3",
   "language": "python",
   "name": "python3"
  },
  "language_info": {
   "codemirror_mode": {
    "name": "ipython",
    "version": 3
   },
   "file_extension": ".py",
   "mimetype": "text/x-python",
   "name": "python",
   "nbconvert_exporter": "python",
   "pygments_lexer": "ipython3",
   "version": "3.12.5"
  }
 },
 "nbformat": 4,
 "nbformat_minor": 2
}
