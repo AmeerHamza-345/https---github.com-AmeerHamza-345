{
  "nbformat": 4,
  "nbformat_minor": 0,
  "metadata": {
    "colab": {
      "provenance": [],
      "authorship_tag": "ABX9TyMo6ul0dD95XvQ3/YFJww22",
      "include_colab_link": true
    },
    "kernelspec": {
      "name": "python3",
      "display_name": "Python 3"
    },
    "language_info": {
      "name": "python"
    }
  },
  "cells": [
    {
      "cell_type": "markdown",
      "metadata": {
        "id": "view-in-github",
        "colab_type": "text"
      },
      "source": [
        "<a href=\"https://colab.research.google.com/github/AmeerHamza-345/https---github.com-AmeerHamza-345/blob/main/Advanced_Planetary__Weight__Calculator.ipynb\" target=\"_parent\"><img src=\"https://colab.research.google.com/assets/colab-badge.svg\" alt=\"Open In Colab\"/></a>"
      ]
    },
    {
      "cell_type": "markdown",
      "source": [
        "#Problem: Planetary Weight Calculator\n",
        "##Milestone #1: Mars Weight\n",
        "A few years ago, NASA made history with the first controlled flight on another planet. Its latest Mars Rover, Perseverance, has onboard a 50cm high helicopter called Ingenuity. Ingenuity made its third flight, during which it flew faster and further than it had on any of its test flights on Earth. Interestingly, Ingenuity uses Python for some of its flight modeling software!\n",
        "\n",
        "Ingenuity on the surface of Mars (source: NASA)\n",
        "\n",
        "When programming Ingenuity, one of the things that NASA engineers need to account for is the fact that due to the weaker gravity on Mars, an Earthling's weight on Mars is 37.8% of their weight on Earth. Write a Python program that prompts an Earthling to enter their weight on Earth and prints their calculated weight on Mars.\n",
        "\n",
        "The output should be rounded to two decimal places when necessary. Python has a round function which can help you with this. You pass in the value to be rounded and the number of decimal places to use. In the example below, the number 3.1415926 is rounded to 2 decimal places which is 3.14."
      ],
      "metadata": {
        "id": "OAAtKG9Rw0AP"
      }
    },
    {
      "cell_type": "code",
      "source": [
        "# marsweight.py\n",
        "earth_weight:float = float(input(\"Enter a weight on Earth: \"))\n",
        "mars_weight:float = round(earth_weight * 0.378, 2)\n",
        "print(f\"The equivalent on Mars: {mars_weight}\")\n"
      ],
      "metadata": {
        "colab": {
          "base_uri": "https://localhost:8080/"
        },
        "id": "HUiVA2jC4mSk",
        "outputId": "eae3c9f4-0580-467b-e42b-0832a8aa4c53"
      },
      "execution_count": 17,
      "outputs": [
        {
          "output_type": "stream",
          "name": "stdout",
          "text": [
            "Enter a weight on Earth: 54\n",
            "The equivalent on Mars: 20.41\n"
          ]
        }
      ]
    },
    {
      "cell_type": "code",
      "source": [
        "# planetaryweight.py\n",
        "planet_gravity:dict = {\n",
        "    \"mercury\": 0.376,\n",
        "    \"venus\": 0.889,\n",
        "    \"mars\": 0.378,\n",
        "    \"jupiter\": 2.36,\n",
        "    \"saturn\": 1.081,\n",
        "    \"uranus\": 0.815,\n",
        "    \"neptune\": 1.14\n",
        "}\n",
        "\n",
        "try:\n",
        "    earth_weight:float = float(input(\"Enter a weight on Earth: \"))\n",
        "    planet:str  = input(\"Enter a planet: \").strip().lower()\n",
        "\n",
        "    if planet in planet_gravity:\n",
        "        weight_on_planet:float = round(earth_weight * planet_gravity[planet], 2)\n",
        "        print(f\"The equivalent weight on {planet.capitalize()}: {weight_on_planet}\")\n",
        "    else:\n",
        "        print(\"Error: Invalid planet name. Please enter a valid planet from the solar system.\")\n",
        "except ValueError:\n",
        "    print(\"Error: Please enter a valid number for the weight.\")\n"
      ],
      "metadata": {
        "colab": {
          "base_uri": "https://localhost:8080/"
        },
        "id": "cODsUPfN4pTH",
        "outputId": "6488da61-2f60-409a-c688-81cfae486feb"
      },
      "execution_count": 20,
      "outputs": [
        {
          "output_type": "stream",
          "name": "stdout",
          "text": [
            "Enter a weight on Earth: 54\n",
            "Enter a planet: mercury\n",
            "The equivalent weight on Mercury: 20.3\n"
          ]
        }
      ]
    }
  ]
}