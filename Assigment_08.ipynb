{
  "nbformat": 4,
  "nbformat_minor": 0,
  "metadata": {
    "colab": {
      "provenance": [],
      "authorship_tag": "ABX9TyMzstx9Bbmfv9RKsmIioWiP",
      "include_colab_link": true
    },
    "kernelspec": {
      "name": "python3",
      "display_name": "Python 3"
    },
    "language_info": {
      "name": "python"
    }
  },
  "cells": [
    {
      "cell_type": "markdown",
      "metadata": {
        "id": "view-in-github",
        "colab_type": "text"
      },
      "source": [
        "<a href=\"https://colab.research.google.com/github/AmeerHamza-345/https---github.com-AmeerHamza-345/blob/main/Assigment_08.ipynb\" target=\"_parent\"><img src=\"https://colab.research.google.com/assets/colab-badge.svg\" alt=\"Open In Colab\"/></a>"
      ]
    },
    {
      "cell_type": "markdown",
      "source": [
        "#Python Programming Assignment 08 (B): High-Low Game\n",
        "##Task Overview\n",
        "We want you to gain more experience working with control flow and Booleans in Python. To do this, we are going to have you develop a game! The game is called High-Low and the way it's played goes as follows:\n",
        "\n",
        "<li>Two numbers are generated from 1 to 100 (inclusive on both ends): one for you and one for a computer, who will be your opponent. You can see your number, but not the computer's!\n",
        "<li>You make a guess, saying your number is either higher than or lower than the computer's number\n",
        "<li>If your guess matches the truth (ex. you guess your number is higher, and then your number is actually higher than the computer's), you get a point!\n",
        "<li>These steps make up one round of the game. The game is over after all rounds have been played.\n"
      ],
      "metadata": {
        "id": "iXY00P2gTMmk"
      }
    },
    {
      "cell_type": "code",
      "source": [
        "import random\n",
        "print(\"Welcome to the High-Low Game!\")\n",
        "print(\"--------------------------------\")\n",
        "score = 0\n",
        "for game in range(1,4):\n",
        "    print(f\"Round {game}\")\n",
        "    player_number = random.randint(1,100)\n",
        "    print(f\"Your number is {player_number}\")\n",
        "    slection = input(\"Do you think your number is higher or lower than the computer's? (type 'higher' or 'lower'): \").lower()\n",
        "    computer_number = random.randint(1, 100)\n",
        "    print(f\"The computer's number is {computer_number}\")\n",
        "    if slection == \"higher\" and player_number > computer_number:\n",
        "      print(\"You were right!\")\n",
        "      score = score + 1\n",
        "    elif slection == \"lower\" and player_number < computer_number:\n",
        "      print(\"You were right!\")\n",
        "      score = score + 1\n",
        "    else:\n",
        "      print(\"Aww, that's incorrect.\")\n",
        "\n",
        "    print(f\"Your score is now: {score}\")\n",
        "print(\"Thanks for playing!\")\n",
        "if score == 3:\n",
        "  print(\"Good job, you played really well!\")\n",
        "elif score == 2:\n",
        "  score >= 1\n",
        "  print(\"you played well!\")\n",
        "else:\n",
        "  print(\"Good luck next time!\")\n"
      ],
      "metadata": {
        "colab": {
          "base_uri": "https://localhost:8080/"
        },
        "id": "JSnvI--C2gAF",
        "outputId": "0f233776-68fb-4440-fa24-901fc42c5fa9"
      },
      "execution_count": 2,
      "outputs": [
        {
          "output_type": "stream",
          "name": "stdout",
          "text": [
            "Welcome to the High-Low Game!\n",
            "--------------------------------\n",
            "Round 1\n",
            "Your number is 46\n",
            "Do you think your number is higher or lower than the computer's? (type 'higher' or 'lower'): lower\n",
            "The computer's number is 77\n",
            "You were right!\n",
            "Your score is now: 1\n",
            "Round 2\n",
            "Your number is 18\n",
            "Do you think your number is higher or lower than the computer's? (type 'higher' or 'lower'): lower\n",
            "The computer's number is 55\n",
            "You were right!\n",
            "Your score is now: 2\n",
            "Round 3\n",
            "Your number is 72\n",
            "Do you think your number is higher or lower than the computer's? (type 'higher' or 'lower'): higher\n",
            "The computer's number is 16\n",
            "You were right!\n",
            "Your score is now: 3\n",
            "Thanks for playing!\n",
            "Good job, you played really well!\n"
          ]
        }
      ]
    },
    {
      "cell_type": "code",
      "source": [],
      "metadata": {
        "id": "NxxT-tLi1Q3a"
      },
      "execution_count": null,
      "outputs": []
    }
  ]
}